{
 "cells": [
  {
   "cell_type": "code",
   "execution_count": null,
   "id": "4078f6d9",
   "metadata": {},
   "outputs": [],
   "source": []
  },
  {
   "cell_type": "code",
   "execution_count": 1,
   "id": "5b6896a4",
   "metadata": {},
   "outputs": [],
   "source": [
    "import pytest\n",
    "#ipytest.autoconfig()"
   ]
  },
  {
   "cell_type": "code",
   "execution_count": 17,
   "id": "3a0c42a5",
   "metadata": {},
   "outputs": [],
   "source": [
    "import math\n",
    "\n",
    "def test_sqrt():\n",
    "   num = 25\n",
    "   assert math.sqrt(num) == 5\n",
    "\n",
    "def testsquare():\n",
    "   num = 7\n",
    "   assert 7*7 == 40\n",
    "\n",
    "def tesequality():\n",
    "   assert 10 == 11"
   ]
  },
  {
   "cell_type": "code",
   "execution_count": 2,
   "id": "33d2d0c6",
   "metadata": {},
   "outputs": [],
   "source": [
    "test_sqrt()"
   ]
  },
  {
   "cell_type": "code",
   "execution_count": 13,
   "id": "b9caac92",
   "metadata": {},
   "outputs": [
    {
     "ename": "AssertionError",
     "evalue": "",
     "output_type": "error",
     "traceback": [
      "\u001b[1;31m---------------------------------------------------------------------------\u001b[0m",
      "\u001b[1;31mAssertionError\u001b[0m                            Traceback (most recent call last)",
      "Cell \u001b[1;32mIn[13], line 1\u001b[0m\n\u001b[1;32m----> 1\u001b[0m \u001b[43mtestsquare\u001b[49m\u001b[43m(\u001b[49m\u001b[43m)\u001b[49m\n",
      "Cell \u001b[1;32mIn[12], line 9\u001b[0m, in \u001b[0;36mtestsquare\u001b[1;34m()\u001b[0m\n\u001b[0;32m      7\u001b[0m \u001b[38;5;28;01mdef\u001b[39;00m \u001b[38;5;21mtestsquare\u001b[39m():\n\u001b[0;32m      8\u001b[0m    num \u001b[38;5;241m=\u001b[39m \u001b[38;5;241m7\u001b[39m\n\u001b[1;32m----> 9\u001b[0m    \u001b[38;5;28;01massert\u001b[39;00m \u001b[38;5;241m7\u001b[39m\u001b[38;5;241m*\u001b[39m\u001b[38;5;241m7\u001b[39m \u001b[38;5;241m==\u001b[39m \u001b[38;5;241m40\u001b[39m\n",
      "\u001b[1;31mAssertionError\u001b[0m: "
     ]
    }
   ],
   "source": [
    "testsquare()"
   ]
  },
  {
   "cell_type": "code",
   "execution_count": 18,
   "id": "9ebb711e",
   "metadata": {},
   "outputs": [
    {
     "ename": "AssertionError",
     "evalue": "",
     "output_type": "error",
     "traceback": [
      "\u001b[1;31m---------------------------------------------------------------------------\u001b[0m",
      "\u001b[1;31mAssertionError\u001b[0m                            Traceback (most recent call last)",
      "Cell \u001b[1;32mIn[18], line 1\u001b[0m\n\u001b[1;32m----> 1\u001b[0m \u001b[43mtesequality\u001b[49m\u001b[43m(\u001b[49m\u001b[43m)\u001b[49m\n",
      "Cell \u001b[1;32mIn[17], line 12\u001b[0m, in \u001b[0;36mtesequality\u001b[1;34m()\u001b[0m\n\u001b[0;32m     11\u001b[0m \u001b[38;5;28;01mdef\u001b[39;00m \u001b[38;5;21mtesequality\u001b[39m():\n\u001b[1;32m---> 12\u001b[0m    \u001b[38;5;28;01massert\u001b[39;00m \u001b[38;5;241m10\u001b[39m \u001b[38;5;241m==\u001b[39m \u001b[38;5;241m11\u001b[39m\n",
      "\u001b[1;31mAssertionError\u001b[0m: "
     ]
    }
   ],
   "source": [
    "tesequality()"
   ]
  },
  {
   "cell_type": "code",
   "execution_count": null,
   "id": "cf54dfd2",
   "metadata": {},
   "outputs": [],
   "source": []
  },
  {
   "cell_type": "code",
   "execution_count": 1,
   "id": "8eca3af5",
   "metadata": {},
   "outputs": [],
   "source": [
    "# equal to\n",
    "import pytest"
   ]
  },
  {
   "cell_type": "code",
   "execution_count": 12,
   "id": "fc91e43e",
   "metadata": {},
   "outputs": [],
   "source": [
    "def test_compare():\n",
    "    value=10\n",
    "    assert 10==value"
   ]
  },
  {
   "cell_type": "code",
   "execution_count": 13,
   "id": "0aeae8d4",
   "metadata": {},
   "outputs": [],
   "source": [
    "test_compare()"
   ]
  },
  {
   "cell_type": "code",
   "execution_count": null,
   "id": "768e6280",
   "metadata": {},
   "outputs": [],
   "source": []
  },
  {
   "cell_type": "code",
   "execution_count": 24,
   "id": "84d85aa3",
   "metadata": {},
   "outputs": [],
   "source": [
    "def test_greater():\n",
    "   num = 100\n",
    "   assert num > 100\n",
    "\n",
    "def test_greater_equal():\n",
    "   num = 100\n",
    "   assert num >= 100\n",
    "\n",
    "def test_less():\n",
    "   num = 100\n",
    "   assert num < 200"
   ]
  },
  {
   "cell_type": "code",
   "execution_count": 25,
   "id": "524290ab",
   "metadata": {},
   "outputs": [
    {
     "ename": "AssertionError",
     "evalue": "",
     "output_type": "error",
     "traceback": [
      "\u001b[1;31m---------------------------------------------------------------------------\u001b[0m",
      "\u001b[1;31mAssertionError\u001b[0m                            Traceback (most recent call last)",
      "Cell \u001b[1;32mIn[25], line 1\u001b[0m\n\u001b[1;32m----> 1\u001b[0m \u001b[43mtest_greater\u001b[49m\u001b[43m(\u001b[49m\u001b[43m)\u001b[49m\n",
      "Cell \u001b[1;32mIn[24], line 3\u001b[0m, in \u001b[0;36mtest_greater\u001b[1;34m()\u001b[0m\n\u001b[0;32m      1\u001b[0m \u001b[38;5;28;01mdef\u001b[39;00m \u001b[38;5;21mtest_greater\u001b[39m():\n\u001b[0;32m      2\u001b[0m    num \u001b[38;5;241m=\u001b[39m \u001b[38;5;241m100\u001b[39m\n\u001b[1;32m----> 3\u001b[0m    \u001b[38;5;28;01massert\u001b[39;00m num \u001b[38;5;241m>\u001b[39m \u001b[38;5;241m100\u001b[39m\n",
      "\u001b[1;31mAssertionError\u001b[0m: "
     ]
    }
   ],
   "source": [
    "test_greater()"
   ]
  },
  {
   "cell_type": "code",
   "execution_count": 26,
   "id": "541d5a7d",
   "metadata": {},
   "outputs": [],
   "source": [
    "test_greater_equal()"
   ]
  },
  {
   "cell_type": "code",
   "execution_count": 27,
   "id": "0cd1a510",
   "metadata": {},
   "outputs": [],
   "source": [
    "test_less()"
   ]
  },
  {
   "cell_type": "code",
   "execution_count": 3,
   "id": "b0d245e3",
   "metadata": {},
   "outputs": [
    {
     "name": "stdout",
     "output_type": "stream",
     "text": [
      "My name is John, and I am 36\n"
     ]
    }
   ],
   "source": [
    "age = 36\n",
    "txt = \"My name is John, and I am {}\"\n",
    "print(txt.format(age))"
   ]
  },
  {
   "cell_type": "code",
   "execution_count": null,
   "id": "05be335f",
   "metadata": {},
   "outputs": [],
   "source": []
  },
  {
   "cell_type": "code",
   "execution_count": 26,
   "id": "d04acde1",
   "metadata": {},
   "outputs": [],
   "source": [
    "def func(x):\n",
    "    return x + 1\n",
    "\n",
    "\n",
    "def test_answer():\n",
    "    assert func(3)==5"
   ]
  },
  {
   "cell_type": "code",
   "execution_count": 27,
   "id": "f8250d2b",
   "metadata": {},
   "outputs": [
    {
     "data": {
      "text/plain": [
       "6"
      ]
     },
     "execution_count": 27,
     "metadata": {},
     "output_type": "execute_result"
    }
   ],
   "source": [
    "func(5)\n"
   ]
  },
  {
   "cell_type": "code",
   "execution_count": 28,
   "id": "3f43257d",
   "metadata": {},
   "outputs": [
    {
     "ename": "AssertionError",
     "evalue": "",
     "output_type": "error",
     "traceback": [
      "\u001b[1;31m---------------------------------------------------------------------------\u001b[0m",
      "\u001b[1;31mAssertionError\u001b[0m                            Traceback (most recent call last)",
      "Cell \u001b[1;32mIn[28], line 1\u001b[0m\n\u001b[1;32m----> 1\u001b[0m \u001b[43mtest_answer\u001b[49m\u001b[43m(\u001b[49m\u001b[43m)\u001b[49m\n",
      "Cell \u001b[1;32mIn[26], line 6\u001b[0m, in \u001b[0;36mtest_answer\u001b[1;34m()\u001b[0m\n\u001b[0;32m      5\u001b[0m \u001b[38;5;28;01mdef\u001b[39;00m \u001b[38;5;21mtest_answer\u001b[39m():\n\u001b[1;32m----> 6\u001b[0m     \u001b[38;5;28;01massert\u001b[39;00m func(\u001b[38;5;241m3\u001b[39m)\u001b[38;5;241m==\u001b[39m\u001b[38;5;241m5\u001b[39m\n",
      "\u001b[1;31mAssertionError\u001b[0m: "
     ]
    }
   ],
   "source": [
    "test_answer()"
   ]
  },
  {
   "cell_type": "code",
   "execution_count": null,
   "id": "46a5c482",
   "metadata": {},
   "outputs": [],
   "source": []
  },
  {
   "cell_type": "code",
   "execution_count": 26,
   "id": "ea2173a8",
   "metadata": {},
   "outputs": [],
   "source": [
    "import pytest\n",
    "@pytest.mark.great\n",
    "def test_greater():\n",
    "   num = 100\n",
    "   assert num > 100\n",
    "\n",
    "@pytest.mark.great\n",
    "def test_greater_equal():\n",
    "   num = 100\n",
    "   assert num >= 100\n",
    "\n",
    "@pytest.mark.other\n",
    "def test_less():\n",
    "   num = 100\n",
    "   assert num < 200"
   ]
  },
  {
   "cell_type": "code",
   "execution_count": 21,
   "id": "8ddfe55c",
   "metadata": {},
   "outputs": [
    {
     "ename": "AssertionError",
     "evalue": "",
     "output_type": "error",
     "traceback": [
      "\u001b[1;31m---------------------------------------------------------------------------\u001b[0m",
      "\u001b[1;31mAssertionError\u001b[0m                            Traceback (most recent call last)",
      "Cell \u001b[1;32mIn[21], line 1\u001b[0m\n\u001b[1;32m----> 1\u001b[0m \u001b[43mtest_greater\u001b[49m\u001b[43m(\u001b[49m\u001b[43m)\u001b[49m\n\u001b[0;32m      2\u001b[0m test_greater_equal()\n",
      "Cell \u001b[1;32mIn[19], line 5\u001b[0m, in \u001b[0;36mtest_greater\u001b[1;34m()\u001b[0m\n\u001b[0;32m      2\u001b[0m \u001b[38;5;129m@pytest\u001b[39m\u001b[38;5;241m.\u001b[39mmark\u001b[38;5;241m.\u001b[39mgreat\n\u001b[0;32m      3\u001b[0m \u001b[38;5;28;01mdef\u001b[39;00m \u001b[38;5;21mtest_greater\u001b[39m():\n\u001b[0;32m      4\u001b[0m    num \u001b[38;5;241m=\u001b[39m \u001b[38;5;241m100\u001b[39m\n\u001b[1;32m----> 5\u001b[0m    \u001b[38;5;28;01massert\u001b[39;00m num \u001b[38;5;241m>\u001b[39m \u001b[38;5;241m100\u001b[39m\n",
      "\u001b[1;31mAssertionError\u001b[0m: "
     ]
    }
   ],
   "source": [
    "test_greater()"
   ]
  },
  {
   "cell_type": "code",
   "execution_count": 22,
   "id": "f56642e5",
   "metadata": {},
   "outputs": [],
   "source": [
    "test_greater_equal()"
   ]
  },
  {
   "cell_type": "code",
   "execution_count": 24,
   "id": "dfbc450a",
   "metadata": {},
   "outputs": [],
   "source": [
    "test_less()"
   ]
  },
  {
   "cell_type": "code",
   "execution_count": null,
   "id": "80bd1042",
   "metadata": {},
   "outputs": [],
   "source": []
  },
  {
   "cell_type": "code",
   "execution_count": 22,
   "id": "072c0fcb",
   "metadata": {},
   "outputs": [],
   "source": [
    "def hello(name):\n",
    "    return f\"Hello,{(name)}!\"\n"
   ]
  },
  {
   "cell_type": "code",
   "execution_count": 23,
   "id": "43f057ab",
   "metadata": {},
   "outputs": [
    {
     "data": {
      "text/plain": [
       "'Hello,nagadurga!'"
      ]
     },
     "execution_count": 23,
     "metadata": {},
     "output_type": "execute_result"
    }
   ],
   "source": [
    "hello(\"nagadurga\")"
   ]
  },
  {
   "cell_type": "code",
   "execution_count": null,
   "id": "e9a6f1d7",
   "metadata": {},
   "outputs": [],
   "source": []
  },
  {
   "cell_type": "code",
   "execution_count": 2,
   "id": "e06967f5",
   "metadata": {},
   "outputs": [],
   "source": [
    "import numpy as np\n",
    "import pandas as pd\n",
    "\n",
    "# case 1: non-sorted uniformly sampled timeseries with 2 holes\n",
    "case1 = pd.DataFrame({\"datetime\": pd.date_range(start='20/1/99', periods=25, \n",
    "                                                freq='-1d', tz='UTC'),\n",
    "                      \"data1\": np.arange(0, 25),\n",
    "                      \"data2\": np.arange(1, 26),\n",
    "                      \"data3\": np.arange(1, 26)})\n",
    "case1.drop([6, 17,5], inplace=True)"
   ]
  },
  {
   "cell_type": "code",
   "execution_count": 3,
   "id": "5936c9c0",
   "metadata": {},
   "outputs": [
    {
     "data": {
      "text/html": [
       "<div>\n",
       "<style scoped>\n",
       "    .dataframe tbody tr th:only-of-type {\n",
       "        vertical-align: middle;\n",
       "    }\n",
       "\n",
       "    .dataframe tbody tr th {\n",
       "        vertical-align: top;\n",
       "    }\n",
       "\n",
       "    .dataframe thead th {\n",
       "        text-align: right;\n",
       "    }\n",
       "</style>\n",
       "<table border=\"1\" class=\"dataframe\">\n",
       "  <thead>\n",
       "    <tr style=\"text-align: right;\">\n",
       "      <th></th>\n",
       "      <th>datetime</th>\n",
       "      <th>data1</th>\n",
       "      <th>data2</th>\n",
       "      <th>data3</th>\n",
       "    </tr>\n",
       "  </thead>\n",
       "  <tbody>\n",
       "    <tr>\n",
       "      <th>0</th>\n",
       "      <td>1999-01-20 00:00:00+00:00</td>\n",
       "      <td>0</td>\n",
       "      <td>1</td>\n",
       "      <td>1</td>\n",
       "    </tr>\n",
       "    <tr>\n",
       "      <th>1</th>\n",
       "      <td>1999-01-19 00:00:00+00:00</td>\n",
       "      <td>1</td>\n",
       "      <td>2</td>\n",
       "      <td>2</td>\n",
       "    </tr>\n",
       "    <tr>\n",
       "      <th>2</th>\n",
       "      <td>1999-01-18 00:00:00+00:00</td>\n",
       "      <td>2</td>\n",
       "      <td>3</td>\n",
       "      <td>3</td>\n",
       "    </tr>\n",
       "    <tr>\n",
       "      <th>3</th>\n",
       "      <td>1999-01-17 00:00:00+00:00</td>\n",
       "      <td>3</td>\n",
       "      <td>4</td>\n",
       "      <td>4</td>\n",
       "    </tr>\n",
       "    <tr>\n",
       "      <th>4</th>\n",
       "      <td>1999-01-16 00:00:00+00:00</td>\n",
       "      <td>4</td>\n",
       "      <td>5</td>\n",
       "      <td>5</td>\n",
       "    </tr>\n",
       "    <tr>\n",
       "      <th>7</th>\n",
       "      <td>1999-01-13 00:00:00+00:00</td>\n",
       "      <td>7</td>\n",
       "      <td>8</td>\n",
       "      <td>8</td>\n",
       "    </tr>\n",
       "    <tr>\n",
       "      <th>8</th>\n",
       "      <td>1999-01-12 00:00:00+00:00</td>\n",
       "      <td>8</td>\n",
       "      <td>9</td>\n",
       "      <td>9</td>\n",
       "    </tr>\n",
       "    <tr>\n",
       "      <th>9</th>\n",
       "      <td>1999-01-11 00:00:00+00:00</td>\n",
       "      <td>9</td>\n",
       "      <td>10</td>\n",
       "      <td>10</td>\n",
       "    </tr>\n",
       "    <tr>\n",
       "      <th>10</th>\n",
       "      <td>1999-01-10 00:00:00+00:00</td>\n",
       "      <td>10</td>\n",
       "      <td>11</td>\n",
       "      <td>11</td>\n",
       "    </tr>\n",
       "    <tr>\n",
       "      <th>11</th>\n",
       "      <td>1999-01-09 00:00:00+00:00</td>\n",
       "      <td>11</td>\n",
       "      <td>12</td>\n",
       "      <td>12</td>\n",
       "    </tr>\n",
       "    <tr>\n",
       "      <th>12</th>\n",
       "      <td>1999-01-08 00:00:00+00:00</td>\n",
       "      <td>12</td>\n",
       "      <td>13</td>\n",
       "      <td>13</td>\n",
       "    </tr>\n",
       "    <tr>\n",
       "      <th>13</th>\n",
       "      <td>1999-01-07 00:00:00+00:00</td>\n",
       "      <td>13</td>\n",
       "      <td>14</td>\n",
       "      <td>14</td>\n",
       "    </tr>\n",
       "    <tr>\n",
       "      <th>14</th>\n",
       "      <td>1999-01-06 00:00:00+00:00</td>\n",
       "      <td>14</td>\n",
       "      <td>15</td>\n",
       "      <td>15</td>\n",
       "    </tr>\n",
       "    <tr>\n",
       "      <th>15</th>\n",
       "      <td>1999-01-05 00:00:00+00:00</td>\n",
       "      <td>15</td>\n",
       "      <td>16</td>\n",
       "      <td>16</td>\n",
       "    </tr>\n",
       "    <tr>\n",
       "      <th>16</th>\n",
       "      <td>1999-01-04 00:00:00+00:00</td>\n",
       "      <td>16</td>\n",
       "      <td>17</td>\n",
       "      <td>17</td>\n",
       "    </tr>\n",
       "    <tr>\n",
       "      <th>18</th>\n",
       "      <td>1999-01-02 00:00:00+00:00</td>\n",
       "      <td>18</td>\n",
       "      <td>19</td>\n",
       "      <td>19</td>\n",
       "    </tr>\n",
       "    <tr>\n",
       "      <th>19</th>\n",
       "      <td>1999-01-01 00:00:00+00:00</td>\n",
       "      <td>19</td>\n",
       "      <td>20</td>\n",
       "      <td>20</td>\n",
       "    </tr>\n",
       "    <tr>\n",
       "      <th>20</th>\n",
       "      <td>1998-12-31 00:00:00+00:00</td>\n",
       "      <td>20</td>\n",
       "      <td>21</td>\n",
       "      <td>21</td>\n",
       "    </tr>\n",
       "    <tr>\n",
       "      <th>21</th>\n",
       "      <td>1998-12-30 00:00:00+00:00</td>\n",
       "      <td>21</td>\n",
       "      <td>22</td>\n",
       "      <td>22</td>\n",
       "    </tr>\n",
       "    <tr>\n",
       "      <th>22</th>\n",
       "      <td>1998-12-29 00:00:00+00:00</td>\n",
       "      <td>22</td>\n",
       "      <td>23</td>\n",
       "      <td>23</td>\n",
       "    </tr>\n",
       "    <tr>\n",
       "      <th>23</th>\n",
       "      <td>1998-12-28 00:00:00+00:00</td>\n",
       "      <td>23</td>\n",
       "      <td>24</td>\n",
       "      <td>24</td>\n",
       "    </tr>\n",
       "    <tr>\n",
       "      <th>24</th>\n",
       "      <td>1998-12-27 00:00:00+00:00</td>\n",
       "      <td>24</td>\n",
       "      <td>25</td>\n",
       "      <td>25</td>\n",
       "    </tr>\n",
       "  </tbody>\n",
       "</table>\n",
       "</div>"
      ],
      "text/plain": [
       "                    datetime  data1  data2  data3\n",
       "0  1999-01-20 00:00:00+00:00      0      1      1\n",
       "1  1999-01-19 00:00:00+00:00      1      2      2\n",
       "2  1999-01-18 00:00:00+00:00      2      3      3\n",
       "3  1999-01-17 00:00:00+00:00      3      4      4\n",
       "4  1999-01-16 00:00:00+00:00      4      5      5\n",
       "7  1999-01-13 00:00:00+00:00      7      8      8\n",
       "8  1999-01-12 00:00:00+00:00      8      9      9\n",
       "9  1999-01-11 00:00:00+00:00      9     10     10\n",
       "10 1999-01-10 00:00:00+00:00     10     11     11\n",
       "11 1999-01-09 00:00:00+00:00     11     12     12\n",
       "12 1999-01-08 00:00:00+00:00     12     13     13\n",
       "13 1999-01-07 00:00:00+00:00     13     14     14\n",
       "14 1999-01-06 00:00:00+00:00     14     15     15\n",
       "15 1999-01-05 00:00:00+00:00     15     16     16\n",
       "16 1999-01-04 00:00:00+00:00     16     17     17\n",
       "18 1999-01-02 00:00:00+00:00     18     19     19\n",
       "19 1999-01-01 00:00:00+00:00     19     20     20\n",
       "20 1998-12-31 00:00:00+00:00     20     21     21\n",
       "21 1998-12-30 00:00:00+00:00     21     22     22\n",
       "22 1998-12-29 00:00:00+00:00     22     23     23\n",
       "23 1998-12-28 00:00:00+00:00     23     24     24\n",
       "24 1998-12-27 00:00:00+00:00     24     25     25"
      ]
     },
     "execution_count": 3,
     "metadata": {},
     "output_type": "execute_result"
    }
   ],
   "source": [
    "case1"
   ]
  },
  {
   "cell_type": "code",
   "execution_count": 4,
   "id": "dc8e24ec",
   "metadata": {},
   "outputs": [],
   "source": [
    "def case_two_positive_ints():\n",
    "    \"\"\" Inputs are two positive integers \"\"\"\n",
    "    return -1, -2\n",
    "\n",
    "def case_two_negative_ints():\n",
    "    \"\"\" Inputs are two negative integers \"\"\"\n",
    "    return -1, -2"
   ]
  },
  {
   "cell_type": "code",
   "execution_count": 5,
   "id": "2f602f85",
   "metadata": {},
   "outputs": [
    {
     "data": {
      "text/plain": [
       "(-1, -2)"
      ]
     },
     "execution_count": 5,
     "metadata": {},
     "output_type": "execute_result"
    }
   ],
   "source": [
    "case_two_positive_ints()"
   ]
  },
  {
   "cell_type": "code",
   "execution_count": null,
   "id": "3252c985",
   "metadata": {},
   "outputs": [],
   "source": []
  },
  {
   "cell_type": "code",
   "execution_count": 27,
   "id": "e9adbd13",
   "metadata": {},
   "outputs": [],
   "source": [
    "name=\"nagadurga\""
   ]
  },
  {
   "cell_type": "code",
   "execution_count": 26,
   "id": "8e2221cf",
   "metadata": {},
   "outputs": [
    {
     "name": "stdout",
     "output_type": "stream",
     "text": [
      "hello nagadurga !\n"
     ]
    }
   ],
   "source": [
    "print(\"hello\",name,\"!\")"
   ]
  },
  {
   "cell_type": "code",
   "execution_count": 28,
   "id": "49b6f764",
   "metadata": {},
   "outputs": [],
   "source": [
    "name=\"nagadurga\"\n",
    "name2=\"sravani\""
   ]
  },
  {
   "cell_type": "code",
   "execution_count": 33,
   "id": "4152d74e",
   "metadata": {},
   "outputs": [
    {
     "name": "stdout",
     "output_type": "stream",
     "text": [
      "nagadurga sravani\n"
     ]
    }
   ],
   "source": [
    "print(name+\" \"+name2)"
   ]
  },
  {
   "cell_type": "code",
   "execution_count": 10,
   "id": "e7692975",
   "metadata": {},
   "outputs": [],
   "source": [
    "from flask import Flask"
   ]
  },
  {
   "cell_type": "code",
   "execution_count": 16,
   "id": "ed095709",
   "metadata": {},
   "outputs": [],
   "source": [
    "from markupsafe import escape\n",
    "app = Flask(__name__)\n",
    "@app.route(\"/<name>\")\n",
    "def hello(name):\n",
    "    return f\"Hello,{escape(name)}!\""
   ]
  },
  {
   "cell_type": "code",
   "execution_count": 17,
   "id": "25c3afcb",
   "metadata": {},
   "outputs": [
    {
     "data": {
      "text/plain": [
       "'Hello,durga!'"
      ]
     },
     "execution_count": 17,
     "metadata": {},
     "output_type": "execute_result"
    }
   ],
   "source": [
    "hello(\"durga\")"
   ]
  }
 ],
 "metadata": {
  "kernelspec": {
   "display_name": "Python 3 (ipykernel)",
   "language": "python",
   "name": "python3"
  },
  "language_info": {
   "codemirror_mode": {
    "name": "ipython",
    "version": 3
   },
   "file_extension": ".py",
   "mimetype": "text/x-python",
   "name": "python",
   "nbconvert_exporter": "python",
   "pygments_lexer": "ipython3",
   "version": "3.10.9"
  }
 },
 "nbformat": 4,
 "nbformat_minor": 5
}
