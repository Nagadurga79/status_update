{
 "cells": [
  {
   "cell_type": "code",
   "execution_count": 1,
   "id": "f8988ca0",
   "metadata": {},
   "outputs": [
    {
     "ename": "SyntaxError",
     "evalue": "unterminated string literal (detected at line 1) (4061813355.py, line 1)",
     "output_type": "error",
     "traceback": [
      "\u001b[1;36m  Cell \u001b[1;32mIn[1], line 1\u001b[1;36m\u001b[0m\n\u001b[1;33m    UNLOAD ('\u001b[0m\n\u001b[1;37m            ^\u001b[0m\n\u001b[1;31mSyntaxError\u001b[0m\u001b[1;31m:\u001b[0m unterminated string literal (detected at line 1)\n"
     ]
    }
   ],
   "source": [
    "UNLOAD ('\n",
    "(\n",
    "  SELECT\n",
    "    ''User ID'',\n",
    "    ''E-mail'',\n",
    "    ''Order Count'',\n",
    "    ''Signup Date'',\n",
    "    ''Last Visit Date'',\n",
    "    ''Last Visit Date Group''\n",
    ")\n",
    "UNION\n",
    "(\n",
    "  SELECT\n",
    "    CAST(id AS varchar),\n",
    "    email,\n",
    "    CAST(order_count AS varchar),\n",
    "    signup_date,\n",
    "    CAST(last_visit AS varchar),\n",
    "    last_visit_date_group\n",
    "    FROM user_details\n",
    "    WHERE email <> ''''\n",
    ")\n",
    "ORDER BY 1 DESC\n",
    "')\n",
    "TO 's3://bucket_name/file_prefix_'\n",
    "CREDENTIALS 'aws_access_key_id=KEY1;aws_secret_access_key=KEY2'\n",
    "ALLOWOVERWRITE\n",
    "MANIFEST\n",
    "ESCAPE\n",
    "PARALLEL OFF;"
   ]
  },
  {
   "cell_type": "markdown",
   "id": "6f5dfee3",
   "metadata": {},
   "source": [
    "# 2nd method"
   ]
  },
  {
   "cell_type": "code",
   "execution_count": null,
   "id": "20bfe772",
   "metadata": {},
   "outputs": [],
   "source": [
    "psql -h <host> -d <db> -U <user> -p 5439 -a -c \"select * from <table>\" -F '<delimiter>' -o /path/filename.csv"
   ]
  },
  {
   "cell_type": "code",
   "execution_count": null,
   "id": "5a091c8f",
   "metadata": {},
   "outputs": [],
   "source": [
    "postgres@vithal-Inspiron-3558:~$ psql -h vithalxxxx.xxxxxxxxx.us-east-2.redshift.amazonaws.com -U vithaljs -d training -p 5439 -A -t -c \"select * from tr_test\" -F ',' -o tr_test.csv\n",
    "Password for user vithaljs:\n",
    "postgres@vithal-Inspiron-3558:~$"
   ]
  },
  {
   "cell_type": "code",
   "execution_count": null,
   "id": "7b8aec5e",
   "metadata": {},
   "outputs": [],
   "source": []
  },
  {
   "cell_type": "code",
   "execution_count": null,
   "id": "d03892ba",
   "metadata": {},
   "outputs": [],
   "source": []
  },
  {
   "cell_type": "code",
   "execution_count": null,
   "id": "d6578e7a",
   "metadata": {},
   "outputs": [],
   "source": []
  },
  {
   "cell_type": "code",
   "execution_count": null,
   "id": "0570c9ab",
   "metadata": {},
   "outputs": [],
   "source": []
  },
  {
   "cell_type": "code",
   "execution_count": null,
   "id": "40a4e7ff",
   "metadata": {},
   "outputs": [],
   "source": []
  },
  {
   "cell_type": "code",
   "execution_count": null,
   "id": "91ab4388",
   "metadata": {},
   "outputs": [],
   "source": []
  },
  {
   "cell_type": "code",
   "execution_count": null,
   "id": "aa5b0aba",
   "metadata": {},
   "outputs": [],
   "source": []
  }
 ],
 "metadata": {
  "kernelspec": {
   "display_name": "Python 3 (ipykernel)",
   "language": "python",
   "name": "python3"
  },
  "language_info": {
   "codemirror_mode": {
    "name": "ipython",
    "version": 3
   },
   "file_extension": ".py",
   "mimetype": "text/x-python",
   "name": "python",
   "nbconvert_exporter": "python",
   "pygments_lexer": "ipython3",
   "version": "3.10.9"
  }
 },
 "nbformat": 4,
 "nbformat_minor": 5
}
